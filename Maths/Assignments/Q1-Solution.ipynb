{
 "cells": [
  {
   "cell_type": "code",
   "execution_count": 30,
   "metadata": {},
   "outputs": [
    {
     "output_type": "stream",
     "name": "stdout",
     "text": [
      "Original Random 2x2 Coefficient Matrix A:\n [[0.52992941 0.91692432]\n [0.42627025 0.31118235]]\nOriginal Random Vector Matrix B:\n [[0.23974492]\n [0.48604119]]\n"
     ]
    }
   ],
   "source": [
    "import numpy as np\n",
    "import math\n",
    "np.set_printoptions(suppress=True)\n",
    "A = np.random.rand(2,2)\n",
    "f = np.random.rand(2,1)\n",
    "# A= np.array([[10,-7,0],[-3,2.099,6],[5,-1,5]])\n",
    "# f = np.array([[7],[3.901],[6]])\n",
    "print(\"Original Random 2x2 Coefficient Matrix A:\\n\",A)\n",
    "print(\"Original Random Vector Matrix B:\\n\",f)\n",
    "\n",
    "# # Original Random 2x2 Coefficient Matrix A:\n",
    "# A = np.array([[0.39245808 ,0.42972412], [0.26497132, 0.50848123]])\n",
    "# f = np.array([[0.0841236 ],[0.78500416]])"
   ]
  },
  {
   "cell_type": "code",
   "execution_count": 31,
   "metadata": {},
   "outputs": [],
   "source": [
    "def convertToSig(a_number,significant_digits):\n",
    "    if(type(a_number) == np.ndarray):\n",
    "        for idx,i in  np.ndenumerate(a_number):\n",
    "            if(a_number[idx]!=0):\n",
    "                a_number[idx] = round(a_number[idx], significant_digits - int(math.floor(math.log10(abs(a_number[idx])))) - 1)\n",
    "        return(a_number)    \n",
    "    elif(a_number != 0.):\n",
    "        rounded_number =  round(a_number, significant_digits - int(math.floor(math.log10(abs(a_number)))) - 1)\n",
    "        return(rounded_number)\n",
    "    else:\n",
    "        return(a_number)"
   ]
  },
  {
   "cell_type": "code",
   "execution_count": 32,
   "metadata": {},
   "outputs": [],
   "source": [
    "def GaussElimWithPivot(A, f,digits):\n",
    "    A=np.around(A,digits)\n",
    "    f=np.around(f,digits)\n",
    "    print(\"Executing 2x2 system of equations with Pivot for \",digits,\" significant digits!!\\n\\n\")\n",
    "\n",
    "    print(\"Random 2x2 Coefficient Matrix A of \",digits,\" significant digits:\\n\",A)\n",
    "    print(\"Random Vector Matrix B of \",digits,\" significant digits:\\n\",f)\n",
    "   \n",
    "    print(\"Equations which must be solved based on above matrix:\")\n",
    "    for i in range(A.shape[0]):\n",
    "        row = [\"{}*x{}\".format(A[i, j], j + 1) for j in range(A.shape[1])]\n",
    "        print(\"[{}] = [{}]\".format(\" + \".join(row), f[i]))\n",
    " #Caluculating the LU using Pivoting\n",
    "    n = len(f)\n",
    "    for i in range(0,n-1):     # Step - Looping through the columns of the matrix\n",
    "        if np.abs(A[i,i])==0:\n",
    "            for k in range(i+1,n):\n",
    "                if np.abs(A[k,i])>np.abs(A[i,i]):\n",
    "                    A[[i,k]]=A[[k,i]]             # Step Swapping ith and kth rows to each other\n",
    "                    f[[i,k]]=f[[k,i]]\n",
    "                    break\n",
    "        for j in range(i+1,n):     # Loop through rows below diagonal for each column\n",
    "            m = convertToSig(A[j,i]/A[i,i],digits)\n",
    "            A[j,:] = convertToSig(A[j,:] - convertToSig(m*A[i,:],digits),digits)\n",
    "            f[j] = convertToSig(f[j] - convertToSig(m*f[i],digits),digits)        \n",
    " #Caluculating the final output\n",
    "    n = f.size\n",
    "    x = np.zeros(n)             # Initialize the solution vector, x, to zero\n",
    "    x[n-1] = convertToSig(f[n-1]/A[n-1,n-1],digits)    # Solve for last entry first\n",
    "    for i in range(n-2,-1,-1):      # Loop from the end to the beginning\n",
    "        sum_ = 0\n",
    "        for j in range(i+1,n):        # For known x values, sum and move to rhs\n",
    "            sum_ = convertToSig(sum_ + A[i,j]*x[j],digits)\n",
    "        sum_ = convertToSig(sum_,digits)\n",
    "        x[i] = convertToSig((f[i] - sum_)/A[i,i],digits)\n",
    "    print(\"Solution is as below:\")\n",
    "    return x"
   ]
  },
  {
   "cell_type": "code",
   "execution_count": 33,
   "metadata": {},
   "outputs": [],
   "source": [
    "def GaussElimWithoutPivot(A, f,digits):\n",
    "    print(\"Executing 2x2 system of equations without Pivot for \",digits,\" significant digits!!\\n\")\n",
    "    A = np.around(A,digits)\n",
    "    f = np.around(f,digits)\n",
    "    print(\"Random 2x2 Coefficient Matrix A of \",digits,\" significant digits:\\n\",A)\n",
    "    print(\"Random Vector Matrix B of \",digits,\" significant digits:\\n\",f)\n",
    "    \n",
    "    print(\"Equations which must be solved based on above matrix:\")\n",
    "    for i in range(A.shape[0]):\n",
    "        row = [\"{}*x{}\".format(A[i, j], j + 1) \n",
    "        for j in range(A.shape[1])]\n",
    "        print(\"[{}] = [{}]\".format(\" + \".join(row), f[i]))\n",
    "    #LU Decomposition with no pivoting\n",
    "    n = len(f)\n",
    "    for i in range(0,n-1):     # Loop through the columns of the matrix\n",
    "        for j in range(i+1,n):     # Loop through rows below diagonal for each column\n",
    "            if A[i,i] == 0:\n",
    "                print(\"Error: Zero on diagonal!\")\n",
    "                print(\"Need algorithm with pivoting\")\n",
    "                break\n",
    "            m = convertToSig(A[j,i]/A[i,i],digits)\n",
    "            A[j,:] = convertToSig(A[j,:] - convertToSig(m*A[i,:],digits),digits)\n",
    "            f[j] = convertToSig(f[j] - convertToSig(m*f[i],digits),digits)\n",
    "    #Using Back Substitution\n",
    "    n = f.size\n",
    "    x = np.zeros(n)             # Initialize the solution vector, x, to zero\n",
    "    x[n-1] = convertToSig(f[n-1]/A[n-1,n-1],digits)   # Solve for last entry first\n",
    "    for i in range(n-2,-1,-1):      # Loop from the end to the beginning\n",
    "        sum_ = 0\n",
    "        for j in range(i+1,n):        # For known x values, sum and move to rhs\n",
    "            sum_ =convertToSig(sum_ + convertToSig(A[i,j]*x[j],digits),digits)\n",
    "        x[i] = convertToSig(((f[i] - sum_)/A[i,i]),digits)\n",
    "    print(\"\\nSolution is as below:\")\n",
    "    return x"
   ]
  },
  {
   "cell_type": "code",
   "execution_count": 34,
   "metadata": {},
   "outputs": [
    {
     "output_type": "stream",
     "name": "stdout",
     "text": [
      "Executing 2x2 system of equations without Pivot for  5  significant digits!!\n\nRandom 2x2 Coefficient Matrix A of  5  significant digits:\n [[0.52993 0.91692]\n [0.42627 0.31118]]\nRandom Vector Matrix B of  5  significant digits:\n [[0.23974]\n [0.48604]]\nEquations which must be solved based on above matrix:\n[0.52993*x1 + 0.91692*x2] = [[0.23974]]\n[0.42627*x1 + 0.31118*x2] = [[0.48604]]\n\nSolution is as below:\n[ 1.6422  -0.68765]\n"
     ]
    }
   ],
   "source": [
    "print(GaussElimWithoutPivot(A, f,5))"
   ]
  },
  {
   "cell_type": "code",
   "execution_count": 35,
   "metadata": {},
   "outputs": [
    {
     "output_type": "stream",
     "name": "stdout",
     "text": [
      "Executing 2x2 system of equations with Pivot for  3  significant digits!!\n\n\nRandom 2x2 Coefficient Matrix A of  3  significant digits:\n [[0.53  0.917]\n [0.426 0.311]]\nRandom Vector Matrix B of  3  significant digits:\n [[0.24 ]\n [0.486]]\nEquations which must be solved based on above matrix:\n[0.53*x1 + 0.917*x2] = [[0.24]]\n[0.426*x1 + 0.311*x2] = [[0.486]]\nSolution is as below:\n[ 1.64  -0.688]\n"
     ]
    }
   ],
   "source": [
    "print(GaussElimWithPivot(A, f,3))"
   ]
  },
  {
   "cell_type": "code",
   "execution_count": 36,
   "metadata": {},
   "outputs": [
    {
     "output_type": "stream",
     "name": "stdout",
     "text": [
      "Executing 2x2 system of equations with Pivot for  4  significant digits!!\n\n\nRandom 2x2 Coefficient Matrix A of  4  significant digits:\n [[0.5299 0.9169]\n [0.4263 0.3112]]\nRandom Vector Matrix B of  4  significant digits:\n [[0.2397]\n [0.486 ]]\nEquations which must be solved based on above matrix:\n[0.5299*x1 + 0.9169*x2] = [[0.2397]]\n[0.4263*x1 + 0.3112*x2] = [[0.486]]\nSolution is as below:\n[ 1.642  -0.6876]\n"
     ]
    }
   ],
   "source": [
    "print(GaussElimWithPivot(A, f,4))"
   ]
  },
  {
   "cell_type": "code",
   "execution_count": 37,
   "metadata": {},
   "outputs": [
    {
     "output_type": "stream",
     "name": "stdout",
     "text": [
      "Executing 2x2 system of equations with Pivot for  5  significant digits!!\n\n\nRandom 2x2 Coefficient Matrix A of  5  significant digits:\n [[0.52993 0.91692]\n [0.42627 0.31118]]\nRandom Vector Matrix B of  5  significant digits:\n [[0.23974]\n [0.48604]]\nEquations which must be solved based on above matrix:\n[0.52993*x1 + 0.91692*x2] = [[0.23974]]\n[0.42627*x1 + 0.31118*x2] = [[0.48604]]\nSolution is as below:\n[ 1.6422  -0.68765]\n"
     ]
    }
   ],
   "source": [
    "print(GaussElimWithPivot(A, f,5))"
   ]
  },
  {
   "cell_type": "code",
   "execution_count": 38,
   "metadata": {},
   "outputs": [
    {
     "output_type": "stream",
     "name": "stdout",
     "text": [
      "Executing 2x2 system of equations with Pivot for  6  significant digits!!\n\n\nRandom 2x2 Coefficient Matrix A of  6  significant digits:\n [[0.529929 0.916924]\n [0.42627  0.311182]]\nRandom Vector Matrix B of  6  significant digits:\n [[0.239745]\n [0.486041]]\nEquations which must be solved based on above matrix:\n[0.529929*x1 + 0.916924*x2] = [[0.239745]]\n[0.42627*x1 + 0.311182*x2] = [[0.486041]]\nSolution is as below:\n[ 1.64219  -0.687626]\n"
     ]
    }
   ],
   "source": [
    "print(GaussElimWithPivot(A, f,6))"
   ]
  },
  {
   "cell_type": "code",
   "execution_count": 39,
   "metadata": {},
   "outputs": [
    {
     "output_type": "stream",
     "name": "stdout",
     "text": [
      "Executing 2x2 system of equations without Pivot for  3  significant digits!!\n\nRandom 2x2 Coefficient Matrix A of  3  significant digits:\n [[0.53  0.917]\n [0.426 0.311]]\nRandom Vector Matrix B of  3  significant digits:\n [[0.24 ]\n [0.486]]\nEquations which must be solved based on above matrix:\n[0.53*x1 + 0.917*x2] = [[0.24]]\n[0.426*x1 + 0.311*x2] = [[0.486]]\n\nSolution is as below:\n[ 1.64  -0.688]\n"
     ]
    }
   ],
   "source": [
    "print(GaussElimWithoutPivot(A, f,3))"
   ]
  },
  {
   "cell_type": "code",
   "execution_count": 40,
   "metadata": {},
   "outputs": [
    {
     "output_type": "stream",
     "name": "stdout",
     "text": [
      "Executing 2x2 system of equations without Pivot for  4  significant digits!!\n\nRandom 2x2 Coefficient Matrix A of  4  significant digits:\n [[0.5299 0.9169]\n [0.4263 0.3112]]\nRandom Vector Matrix B of  4  significant digits:\n [[0.2397]\n [0.486 ]]\nEquations which must be solved based on above matrix:\n[0.5299*x1 + 0.9169*x2] = [[0.2397]]\n[0.4263*x1 + 0.3112*x2] = [[0.486]]\n\nSolution is as below:\n[ 1.642  -0.6876]\n"
     ]
    }
   ],
   "source": [
    "print(GaussElimWithoutPivot(A, f,4))"
   ]
  },
  {
   "cell_type": "code",
   "execution_count": 41,
   "metadata": {},
   "outputs": [
    {
     "output_type": "stream",
     "name": "stdout",
     "text": [
      "Executing 2x2 system of equations without Pivot for  5  significant digits!!\n\nRandom 2x2 Coefficient Matrix A of  5  significant digits:\n [[0.52993 0.91692]\n [0.42627 0.31118]]\nRandom Vector Matrix B of  5  significant digits:\n [[0.23974]\n [0.48604]]\nEquations which must be solved based on above matrix:\n[0.52993*x1 + 0.91692*x2] = [[0.23974]]\n[0.42627*x1 + 0.31118*x2] = [[0.48604]]\n\nSolution is as below:\n[ 1.6422  -0.68765]\n"
     ]
    }
   ],
   "source": [
    "print(GaussElimWithoutPivot(A, f,5))"
   ]
  },
  {
   "cell_type": "code",
   "execution_count": 42,
   "metadata": {},
   "outputs": [
    {
     "output_type": "stream",
     "name": "stdout",
     "text": [
      "Executing 2x2 system of equations without Pivot for  6  significant digits!!\n\nRandom 2x2 Coefficient Matrix A of  6  significant digits:\n [[0.529929 0.916924]\n [0.42627  0.311182]]\nRandom Vector Matrix B of  6  significant digits:\n [[0.239745]\n [0.486041]]\nEquations which must be solved based on above matrix:\n[0.529929*x1 + 0.916924*x2] = [[0.239745]]\n[0.42627*x1 + 0.311182*x2] = [[0.486041]]\n\nSolution is as below:\n[ 1.64219  -0.687626]\n"
     ]
    }
   ],
   "source": [
    "print(GaussElimWithoutPivot(A, f,6))"
   ]
  },
  {
   "cell_type": "code",
   "execution_count": 43,
   "metadata": {},
   "outputs": [
    {
     "output_type": "stream",
     "name": "stdout",
     "text": [
      "0.313877\n"
     ]
    }
   ],
   "source": [
    "import math\n",
    "a_number=0.31387738\n",
    "significant_digits=6\n",
    "rounded_number =  round(a_number, significant_digits - int(math.floor(math.log10(abs(a_number)))) - 1)\n",
    "print(rounded_number)"
   ]
  },
  {
   "cell_type": "code",
   "execution_count": null,
   "metadata": {},
   "outputs": [],
   "source": []
  }
 ],
 "metadata": {
  "kernelspec": {
   "name": "python394jvsc74a57bd0ba453b883b9f0c52b20ea537c363576399bd97a48568bf4920ce03b7b497ba0e",
   "display_name": "Python 3.9.4 64-bit"
  },
  "language_info": {
   "codemirror_mode": {
    "name": "ipython",
    "version": 3
   },
   "file_extension": ".py",
   "mimetype": "text/x-python",
   "name": "python",
   "nbconvert_exporter": "python",
   "pygments_lexer": "ipython3",
   "version": "3.9.4"
  },
  "metadata": {
   "interpreter": {
    "hash": "ba453b883b9f0c52b20ea537c363576399bd97a48568bf4920ce03b7b497ba0e"
   }
  }
 },
 "nbformat": 4,
 "nbformat_minor": 4
}